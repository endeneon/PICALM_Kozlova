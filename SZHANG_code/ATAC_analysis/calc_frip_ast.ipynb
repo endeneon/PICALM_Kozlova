{
 "cells": [
  {
   "cell_type": "code",
   "execution_count": 1,
   "metadata": {},
   "outputs": [],
   "source": [
    "import os\n",
    "import deeptools\n",
    "import glob\n",
    "\n",
    "import deeptools.countReadsPerBin as crpb\n",
    "import pysam\n",
    "\n",
    "import statistics\n",
    "import numpy\n",
    "import pandas as pd\n",
    "# import pysam.AlignmentFile\n"
   ]
  },
  {
   "cell_type": "code",
   "execution_count": 2,
   "metadata": {},
   "outputs": [
    {
     "name": "stdout",
     "output_type": "stream",
     "text": [
      "\n",
      "Ast-51_S15_trimmed_bwa_barcode_WASPed.bam\n",
      "Ast-53_S17_trimmed_bwa_barcode_WASPed.bam\n",
      "Ast-56_S19_trimmed_bwa_barcode_WASPed.bam\n",
      "Ast-63_S23_trimmed_bwa_barcode_WASPed.bam\n",
      "Ast-33_S11_trimmed_bwa_barcode_WASPed.bam\n",
      "Ast-35_S13_trimmed_bwa_barcode_WASPed.bam\n",
      "downsample_100M/Ast/Ast-31_S9_trimmed_bwa_barcode_WASPed.bam\n",
      "downsample_100M/Ast/Ast-32_S10_trimmed_bwa_barcode_WASPed.bam\n",
      "downsample_100M/Ast/Ast-34_S12_trimmed_bwa_barcode_WASPed.bam\n",
      "downsample_100M/Ast/Ast-50_S14_trimmed_bwa_barcode_WASPed.bam\n",
      "downsample_100M/Ast/Ast-52_S16_trimmed_bwa_barcode_WASPed.bam\n",
      "downsample_100M/Ast/Ast-55_S18_trimmed_bwa_barcode_WASPed.bam\n",
      "downsample_100M/Ast/Ast-58_S20_trimmed_bwa_barcode_WASPed.bam\n",
      "downsample_100M/Ast/Ast-60_S21_trimmed_bwa_barcode_WASPed.bam\n",
      "downsample_100M/Ast/Ast-61_S22_trimmed_bwa_barcode_WASPed.bam\n",
      "downsample_100M/Ast/Ast-64_S24_trimmed_bwa_barcode_WASPed.bam\n",
      "downsample_100M/Ast/Ast-65_S25_trimmed_bwa_barcode_WASPed.bam\n",
      "downsample_100M/Ast/Ast-66_S26_trimmed_bwa_barcode_WASPed.bam\n"
     ]
    }
   ],
   "source": [
    "path = \"\"\n",
    "print(path)\n",
    "bam_files = []\n",
    "for each_file in glob.glob(path + '**/Ast*WASPed.bam', recursive=True):\n",
    "    print(each_file)\n",
    "    bam_files.append(each_file)\n",
    "\n",
    "peak_file = [\"Ast_new_peaks_21Mar2023_peaks.narrowPeak\"]\n",
    "# cr = crpb.CountReadsPerBin(bamFilesList=bam_files,bedFile=peak_file,numberOfProcessors=40)\n"
   ]
  },
  {
   "cell_type": "code",
   "execution_count": 3,
   "metadata": {},
   "outputs": [
    {
     "name": "stdout",
     "output_type": "stream",
     "text": [
      "['Ast-51_S15_trimmed_bwa_barcode_WASPed.bam', 'Ast-53_S17_trimmed_bwa_barcode_WASPed.bam', 'Ast-56_S19_trimmed_bwa_barcode_WASPed.bam', 'Ast-63_S23_trimmed_bwa_barcode_WASPed.bam', 'Ast-33_S11_trimmed_bwa_barcode_WASPed.bam', 'Ast-35_S13_trimmed_bwa_barcode_WASPed.bam', 'downsample_100M/Ast/Ast-31_S9_trimmed_bwa_barcode_WASPed.bam', 'downsample_100M/Ast/Ast-32_S10_trimmed_bwa_barcode_WASPed.bam', 'downsample_100M/Ast/Ast-34_S12_trimmed_bwa_barcode_WASPed.bam', 'downsample_100M/Ast/Ast-50_S14_trimmed_bwa_barcode_WASPed.bam', 'downsample_100M/Ast/Ast-52_S16_trimmed_bwa_barcode_WASPed.bam', 'downsample_100M/Ast/Ast-55_S18_trimmed_bwa_barcode_WASPed.bam', 'downsample_100M/Ast/Ast-58_S20_trimmed_bwa_barcode_WASPed.bam', 'downsample_100M/Ast/Ast-60_S21_trimmed_bwa_barcode_WASPed.bam', 'downsample_100M/Ast/Ast-61_S22_trimmed_bwa_barcode_WASPed.bam', 'downsample_100M/Ast/Ast-64_S24_trimmed_bwa_barcode_WASPed.bam', 'downsample_100M/Ast/Ast-65_S25_trimmed_bwa_barcode_WASPed.bam', 'downsample_100M/Ast/Ast-66_S26_trimmed_bwa_barcode_WASPed.bam']\n"
     ]
    },
    {
     "data": {
      "text/plain": [
       "(279053, 18)"
      ]
     },
     "execution_count": 3,
     "metadata": {},
     "output_type": "execute_result"
    }
   ],
   "source": [
    "print(bam_files)\n",
    "cr = crpb.CountReadsPerBin(bamFilesList=bam_files, # if more than one elements, do not need to relist by []\n",
    "                           bedFile=peak_file, \n",
    "                           numberOfProcessors=40)\n",
    "reads_at_peaks = cr.run()\n",
    "reads_at_peaks.shape"
   ]
  },
  {
   "cell_type": "code",
   "execution_count": 4,
   "metadata": {},
   "outputs": [],
   "source": [
    "total_reads_in_peaks = reads_at_peaks.sum(axis=0)\n",
    "\n",
    "total_bam_reads = []\n",
    "for each_file in bam_files:    \n",
    "    tr = pysam.AlignmentFile(each_file)\n",
    "    # temp_total_reads = tr.run()\n",
    "    total_bam_reads.append(tr.mapped)\n",
    "    # print(tr.mapped)\n",
    "    # total_bam_reads.appendx)"
   ]
  },
  {
   "cell_type": "code",
   "execution_count": 5,
   "metadata": {},
   "outputs": [],
   "source": [
    "# print(total_bam_reads)\n",
    "# print(total_reads_in_peaks)\n",
    "# print(total_reads_in_peaks / total_bam_reads)\n",
    "# print(statistics.mean(total_reads_in_peaks / total_bam_reads))\n",
    "# print(statistics.stdev(total_reads_in_peaks / total_bam_reads))\n",
    "# FRiP_count = pandas.DataFrame([total_reads_in_peaks / total_bam_reads])\n",
    "# print(total_reads_in_peaks / total_bam_reads)\n",
    "FRiP_count = pd.DataFrame(total_reads_in_peaks)\n",
    "FRiP_count.index = bam_files\n",
    "FRiP_count.columns = [\"total_reads_peaks\"]\n",
    "\n",
    "FRiP_count['total_bam_reads'] = total_bam_reads\n",
    "\n",
    "FRiP_count['FRiP'] = [x / y for x, y in zip(total_reads_in_peaks, total_bam_reads)]\n",
    "# FRiP_count.loc[:, \"FRiP\"] = [x / y for x, y in zip(total_reads_in_peaks, total_bam_reads)],\n",
    "                              \n",
    "# column names are names\n",
    "# FRiP_count.columns = bam_files\n",
    "# FRiP_count.rename(columns = [bam_files[:2]], \n",
    "#                   inplace=True)\n",
    "# FRiP_count.columns.values = bam_files[:2]\n",
    "# print(pandas.DataFrame([total_reads_in_peaks / total_bam_reads]))\n",
    "# print(pandas.DataFrame([total_reads_in_peaks / total_bam_reads]).mean(axis=1))\n",
    "# print(numpy.mean(pandas.DataFrame([total_reads_in_peaks / total_bam_reads])))"
   ]
  },
  {
   "cell_type": "code",
   "execution_count": 6,
   "metadata": {},
   "outputs": [
    {
     "name": "stdout",
     "output_type": "stream",
     "text": [
      "                                                    total_reads_peaks  \\\n",
      "Ast-51_S15_trimmed_bwa_barcode_WASPed.bam                  26175004.0   \n",
      "Ast-53_S17_trimmed_bwa_barcode_WASPed.bam                  26453905.0   \n",
      "Ast-56_S19_trimmed_bwa_barcode_WASPed.bam                  36847194.0   \n",
      "Ast-63_S23_trimmed_bwa_barcode_WASPed.bam                  31372337.0   \n",
      "Ast-33_S11_trimmed_bwa_barcode_WASPed.bam                  36572064.0   \n",
      "Ast-35_S13_trimmed_bwa_barcode_WASPed.bam                  36532069.0   \n",
      "downsample_100M/Ast/Ast-31_S9_trimmed_bwa_barco...         23827961.0   \n",
      "downsample_100M/Ast/Ast-32_S10_trimmed_bwa_barc...         29425668.0   \n",
      "downsample_100M/Ast/Ast-34_S12_trimmed_bwa_barc...         28852925.0   \n",
      "downsample_100M/Ast/Ast-50_S14_trimmed_bwa_barc...         27783834.0   \n",
      "downsample_100M/Ast/Ast-52_S16_trimmed_bwa_barc...         43965582.0   \n",
      "downsample_100M/Ast/Ast-55_S18_trimmed_bwa_barc...         41461925.0   \n",
      "downsample_100M/Ast/Ast-58_S20_trimmed_bwa_barc...         23423829.0   \n",
      "downsample_100M/Ast/Ast-60_S21_trimmed_bwa_barc...         19529500.0   \n",
      "downsample_100M/Ast/Ast-61_S22_trimmed_bwa_barc...         15964561.0   \n",
      "downsample_100M/Ast/Ast-64_S24_trimmed_bwa_barc...         39074432.0   \n",
      "downsample_100M/Ast/Ast-65_S25_trimmed_bwa_barc...         28765642.0   \n",
      "downsample_100M/Ast/Ast-66_S26_trimmed_bwa_barc...         47627558.0   \n",
      "\n",
      "                                                    total_bam_reads      FRiP  \n",
      "Ast-51_S15_trimmed_bwa_barcode_WASPed.bam                  44191616  0.592307  \n",
      "Ast-53_S17_trimmed_bwa_barcode_WASPed.bam                  45587532  0.580288  \n",
      "Ast-56_S19_trimmed_bwa_barcode_WASPed.bam                  57749070  0.638057  \n",
      "Ast-63_S23_trimmed_bwa_barcode_WASPed.bam                  55100236  0.569368  \n",
      "Ast-33_S11_trimmed_bwa_barcode_WASPed.bam                  57388054  0.637277  \n",
      "Ast-35_S13_trimmed_bwa_barcode_WASPed.bam                  58188204  0.627826  \n",
      "downsample_100M/Ast/Ast-31_S9_trimmed_bwa_barco...         42151190  0.565297  \n",
      "downsample_100M/Ast/Ast-32_S10_trimmed_bwa_barc...         47874762  0.614638  \n",
      "downsample_100M/Ast/Ast-34_S12_trimmed_bwa_barc...         48413708  0.595966  \n",
      "downsample_100M/Ast/Ast-50_S14_trimmed_bwa_barc...         46105602  0.602613  \n",
      "downsample_100M/Ast/Ast-52_S16_trimmed_bwa_barc...         75485888  0.582434  \n",
      "downsample_100M/Ast/Ast-55_S18_trimmed_bwa_barc...         64783086  0.640012  \n",
      "downsample_100M/Ast/Ast-58_S20_trimmed_bwa_barc...         39297114  0.596070  \n",
      "downsample_100M/Ast/Ast-60_S21_trimmed_bwa_barc...         37735708  0.517534  \n",
      "downsample_100M/Ast/Ast-61_S22_trimmed_bwa_barc...         36861674  0.433094  \n",
      "downsample_100M/Ast/Ast-64_S24_trimmed_bwa_barc...         67889490  0.575559  \n",
      "downsample_100M/Ast/Ast-65_S25_trimmed_bwa_barc...         48922074  0.587989  \n",
      "downsample_100M/Ast/Ast-66_S26_trimmed_bwa_barc...         83133100  0.572907  \n"
     ]
    }
   ],
   "source": [
    "# print(FRiP_count.columns.values)\n",
    "print(FRiP_count)\n",
    "\n",
    "FRiP_count.to_csv(\"Ast_Unified_all_lines_FRiP.txt\",\n",
    "                  sep = \"\\t\")"
   ]
  }
 ],
 "metadata": {
  "kernelspec": {
   "display_name": "py_310",
   "language": "python",
   "name": "python3"
  },
  "language_info": {
   "codemirror_mode": {
    "name": "ipython",
    "version": 3
   },
   "file_extension": ".py",
   "mimetype": "text/x-python",
   "name": "python",
   "nbconvert_exporter": "python",
   "pygments_lexer": "ipython3",
   "version": "3.10.12"
  },
  "orig_nbformat": 4
 },
 "nbformat": 4,
 "nbformat_minor": 2
}
